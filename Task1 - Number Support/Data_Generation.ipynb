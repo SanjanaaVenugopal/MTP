{
  "nbformat": 4,
  "nbformat_minor": 0,
  "metadata": {
    "colab": {
      "name": "Data Generation.ipynb",
      "provenance": [],
      "collapsed_sections": []
    },
    "kernelspec": {
      "name": "python3",
      "display_name": "Python 3"
    },
    "language_info": {
      "name": "python"
    }
  },
  "cells": [
    {
      "cell_type": "markdown",
      "source": [
        "# Number Data Generation"
      ],
      "metadata": {
        "id": "wi0H_2Ze_iOE"
      }
    },
    {
      "cell_type": "markdown",
      "source": [
        "##Import Libraries"
      ],
      "metadata": {
        "id": "vDKkTWP4HkAr"
      }
    },
    {
      "cell_type": "code",
      "source": [
        "import random\n",
        "# !pip install num_to_word\n",
        "# from num_to_word import num_to_word\n",
        "!pip install num2words\n",
        "from num2words import num2words"
      ],
      "metadata": {
        "colab": {
          "base_uri": "https://localhost:8080/"
        },
        "id": "cNSDh5PvHmzi",
        "outputId": "aca2881e-8ad6-4bd4-9a1c-9ad4eb432975"
      },
      "execution_count": null,
      "outputs": [
        {
          "output_type": "stream",
          "name": "stdout",
          "text": [
            "Looking in indexes: https://pypi.org/simple, https://us-python.pkg.dev/colab-wheels/public/simple/\n",
            "Collecting num2words\n",
            "  Downloading num2words-0.5.12-py3-none-any.whl (125 kB)\n",
            "\u001b[K     |████████████████████████████████| 125 kB 5.2 MB/s \n",
            "\u001b[?25hCollecting docopt>=0.6.2\n",
            "  Downloading docopt-0.6.2.tar.gz (25 kB)\n",
            "Building wheels for collected packages: docopt\n",
            "  Building wheel for docopt (setup.py) ... \u001b[?25l\u001b[?25hdone\n",
            "  Created wheel for docopt: filename=docopt-0.6.2-py2.py3-none-any.whl size=13723 sha256=2eb8029627510d062eb7d2044f8d805bd51da192fd7ee6b053c9cdfb40c631b7\n",
            "  Stored in directory: /root/.cache/pip/wheels/72/b0/3f/1d95f96ff986c7dfffe46ce2be4062f38ebd04b506c77c81b9\n",
            "Successfully built docopt\n",
            "Installing collected packages: docopt, num2words\n",
            "Successfully installed docopt-0.6.2 num2words-0.5.12\n"
          ]
        }
      ]
    },
    {
      "cell_type": "markdown",
      "source": [
        "Importing the Indic-num2words repository"
      ],
      "metadata": {
        "id": "OzlvsudUgj24"
      }
    },
    {
      "cell_type": "code",
      "source": [
        "! git clone https://github.com/sutariyaraj/indic-num2words.git"
      ],
      "metadata": {
        "colab": {
          "base_uri": "https://localhost:8080/"
        },
        "id": "tgHNpOwJgius",
        "outputId": "bcc3b6ca-d76f-4c16-b504-14eb6c89ca26"
      },
      "execution_count": null,
      "outputs": [
        {
          "output_type": "stream",
          "name": "stdout",
          "text": [
            "Cloning into 'indic-num2words'...\n",
            "remote: Enumerating objects: 120, done.\u001b[K\n",
            "remote: Counting objects: 100% (50/50), done.\u001b[K\n",
            "remote: Compressing objects: 100% (39/39), done.\u001b[K\n",
            "remote: Total 120 (delta 17), reused 31 (delta 6), pack-reused 70\u001b[K\n",
            "Receiving objects: 100% (120/120), 51.33 KiB | 5.70 MiB/s, done.\n",
            "Resolving deltas: 100% (44/44), done.\n"
          ]
        }
      ]
    },
    {
      "cell_type": "code",
      "source": [
        "import sys\n",
        "sys.path.insert(0,'/content/indic-num2words')"
      ],
      "metadata": {
        "id": "Nd5zpUkEgprt"
      },
      "execution_count": null,
      "outputs": []
    },
    {
      "cell_type": "code",
      "source": [
        "from num_to_words.num_to_words import num_to_word"
      ],
      "metadata": {
        "id": "oR4amqpwiS1f"
      },
      "execution_count": null,
      "outputs": []
    },
    {
      "cell_type": "markdown",
      "source": [
        "## Step - 1 : Random Number Generation"
      ],
      "metadata": {
        "id": "0puV6va2_nTM"
      }
    },
    {
      "cell_type": "code",
      "execution_count": null,
      "metadata": {
        "id": "M9mcJJLe_eBN"
      },
      "outputs": [],
      "source": [
        "import random\n",
        "\n",
        "def random_number_gen(max_length: int) -> str:\n",
        "  \n",
        "  '''\n",
        "    input: max_length - int -  denotes the maximum length of the random number\n",
        "    return: number - string - the random number generated\n",
        "  '''\n",
        "\n",
        "  #First generating a random number to get the length (1-max_length)\n",
        "  length = random.randrange(1,max_length+1)\n",
        "\n",
        "  #Now generating a random number of above length\n",
        "  number = ''.join([\"{}\".format(random.randrange(0, 10)) for _ in range(0, length)])\n",
        "  return number"
      ]
    },
    {
      "cell_type": "code",
      "source": [
        "print(random_number_gen(10))"
      ],
      "metadata": {
        "colab": {
          "base_uri": "https://localhost:8080/"
        },
        "id": "uf73SHbfElnG",
        "outputId": "b59b5fc4-b4f8-405c-c938-53f5c2070147"
      },
      "execution_count": null,
      "outputs": [
        {
          "output_type": "stream",
          "name": "stdout",
          "text": [
            "11711506\n"
          ]
        }
      ]
    },
    {
      "cell_type": "markdown",
      "source": [
        "## Step - 2 : Random Segments Generation"
      ],
      "metadata": {
        "id": "UtlGcaHG_rqa"
      }
    },
    {
      "cell_type": "code",
      "source": [
        "def random_segment_gen(num, max_segment_len): \n",
        "  '''\n",
        "  Inputs - \n",
        "    #num is a string of 10 digits - string\n",
        "    #max_segment_len is the max_len of every segment - int\n",
        "\n",
        "  Output - \n",
        "    returns a list of every segment of num \n",
        "  '''\n",
        "\n",
        "  n = len(num)\n",
        "  temp = num\n",
        "  segment_list = []\n",
        "\n",
        "  while(n>0):\n",
        "    #get random segment len in the range (1, max_segment_len)\n",
        "    segment_len = random.randrange(1, max_segment_len+1)\n",
        "\n",
        "    #get the list of all segments of len segment_len from num\n",
        "    segment_list.append(temp[0:segment_len])\n",
        "\n",
        "    #update len of the string left\n",
        "    n -= segment_len\n",
        "\n",
        "    #update the string without the prev segments\n",
        "    temp = temp[segment_len:]\n",
        "\n",
        "  return segment_list\n",
        "\n"
      ],
      "metadata": {
        "id": "1m_oLNBt3iSY"
      },
      "execution_count": null,
      "outputs": []
    },
    {
      "cell_type": "code",
      "source": [
        "print(random_segment_gen(\"11711506\", 3))"
      ],
      "metadata": {
        "colab": {
          "base_uri": "https://localhost:8080/"
        },
        "id": "ihPEcYwDJRT7",
        "outputId": "36a68623-32ce-4912-af73-8c5e551273e4"
      },
      "execution_count": null,
      "outputs": [
        {
          "output_type": "stream",
          "name": "stdout",
          "text": [
            "['1', '1', '7', '115', '06']\n"
          ]
        }
      ]
    },
    {
      "cell_type": "markdown",
      "source": [
        "## Step -3 Converting to Words (Num2Word)"
      ],
      "metadata": {
        "id": "dtSIDLfC_vuv"
      }
    },
    {
      "cell_type": "code",
      "source": [
        "def choose_lang(choice):\n",
        "  '''\n",
        "  Input -\n",
        "    choice is the numerical value mapped to the language\n",
        "\n",
        "  Output - \n",
        "    returns lang code for num2words\n",
        "  '''\n",
        "\n",
        "  if(choice == 1):\n",
        "    return 'en'\n",
        "\n",
        "  if(choice == 2):\n",
        "    return 'hi'\n"
      ],
      "metadata": {
        "id": "99HY_PLIO7Sx"
      },
      "execution_count": null,
      "outputs": []
    },
    {
      "cell_type": "code",
      "source": [
        "def check_double_triple(seg) -> bool:\n",
        "\n",
        "  '''\n",
        "  This function is used to check if a segment has all the same characters\n",
        "  or not.\n",
        "  Input: seg - str - the string of numbers\n",
        "  Output: True - if all same chars\n",
        "          False - if not all same chars\n",
        "  '''\n",
        "\n",
        "  if seg.count(seg[0]) == len(seg):\n",
        "    return True\n",
        "  else:\n",
        "    return False\n",
        "    "
      ],
      "metadata": {
        "id": "5S81R6W6zcf7"
      },
      "execution_count": null,
      "outputs": []
    },
    {
      "cell_type": "code",
      "source": [
        "def output_individual(seg, lang):\n",
        "\n",
        "    num_word_list = []\n",
        "    for i in range(len(seg)):\n",
        "        digit_word = num_to_word(seg[i], lang)\n",
        "        num_word_list.append(digit_word)\n",
        "    return \" \".join(num_word_list)"
      ],
      "metadata": {
        "id": "pSq2_7ckGocb"
      },
      "execution_count": null,
      "outputs": []
    },
    {
      "cell_type": "code",
      "source": [
        "def double_triple_case(seg, lang) -> str:\n",
        "\n",
        "    '''\n",
        "    Case where the segment has double or triple repeating digits,\n",
        "    Input: \n",
        "       num = string of numbers\n",
        "       lang = language used to represent the number num\n",
        "    Output: the number represented in the form of words in the required lang\n",
        "    '''\n",
        "\n",
        "    num_word = \"\"\n",
        "    digit_word = num_to_word(seg[0], lang)\n",
        "\n",
        "\n",
        "    #Case when all the digits are 0s\n",
        "    if seg[0] == '0':\n",
        "        \n",
        "        #choose randomly between the below two subcases \n",
        "        i = random.randint(1, 2)\n",
        "        \n",
        "        if i == 1:\n",
        "            #Subcase 1: Here output as \"double\" or \"triple\" zero\n",
        "            if len(seg) == 1:\n",
        "                num_word = digit_word\n",
        "            elif len(seg) == 2:\n",
        "                num_word = \"double \"+ digit_word\n",
        "            elif len(seg) == 3:\n",
        "                num_word = \"triple \"+ digit_word\n",
        "\n",
        "        else:\n",
        "            #Subcase 2: Here output the individual digits\n",
        "            num_word = output_individual(seg, lang)\n",
        "\n",
        "    #The case where all the digits are non 0\n",
        "    else:\n",
        "\n",
        "        #choose randomly between the below three sub cases\n",
        "        i = random.randint(1, 3)\n",
        "\n",
        "        if i == 1:\n",
        "            #Subcase 1: Here output as \"double\" or \"triple\" number\n",
        "            if len(seg) == 1:\n",
        "                num_word = digit_word\n",
        "            elif len(seg) == 2:\n",
        "                num_word = \"double \"+ digit_word\n",
        "            elif len(seg) == 3:\n",
        "                num_word = \"triple \"+ digit_word\n",
        "\n",
        "        elif i == 2:\n",
        "            #Subcase 2: Here output the individual digits\n",
        "            num_word = output_individual(seg, lang)\n",
        "        \n",
        "        else:\n",
        "            #Subcase 3: Here output the number directly\n",
        "            num_word = num_to_word(seg, lang)\n",
        "\n",
        "    \n",
        "    return num_word\n"
      ],
      "metadata": {
        "id": "vTAsBqUUyQhF"
      },
      "execution_count": null,
      "outputs": []
    },
    {
      "cell_type": "code",
      "source": [
        "def check_zero(num):\n",
        "  '''\n",
        "  Check if the given number has a zero, and if it does, return its position in the input string\n",
        "\n",
        "  Input: num - string of numbers\n",
        "  Output: list of positions where zero exists\n",
        "\n",
        "  '''\n",
        "  #length of the segment\n",
        "  n = len(num)\n",
        "  temp = num\n",
        "  zero_indices_list = []\n",
        "  i = 0\n",
        "\n",
        "  #check all characters in the segment\n",
        "  for c in num:\n",
        "    if(c=='0'):\n",
        "      zero_indices_list.append(i)\n",
        "    i+=1\n",
        "  \n",
        "  return zero_indices_list"
      ],
      "metadata": {
        "id": "26Kuo3oGTTjq"
      },
      "execution_count": null,
      "outputs": []
    },
    {
      "cell_type": "code",
      "source": [
        "def no_double_triple(num, lang) -> str: \n",
        "  '''\n",
        "  If the segment does not contain any double or triple repeating digits,\n",
        "  handle different cases under non repeating numbers.\n",
        "  Input: \n",
        "    num = string of numbers\n",
        "    lang = language used to represent the number num\n",
        "  Output: the number represented in the form of words in the required lang\n",
        "  '''\n",
        "\n",
        "  zero_indices_list = check_zero(num)\n",
        "  num_zeros = len(zero_indices_list)\n",
        "\n",
        "  num_word = \"\"\n",
        "\n",
        "  #if there are no zeros:\n",
        "  if(num_zeros==0):\n",
        "\n",
        "      #the good case\n",
        "      i = random.randint(1,2)\n",
        "      if i == 1:\n",
        "          #print(\"case1a\")\n",
        "          #the individual digit case\n",
        "          num_word = output_individual(num, lang)\n",
        "      else:\n",
        "          #print(\"case1b\")\n",
        "          #num2word\n",
        "          num_word = num_to_word(num, lang)\n",
        "    \n",
        "\n",
        "  #atleast one zero\n",
        "  else:\n",
        "\n",
        "      #check whether the zero is not in MSB and LSB\n",
        "      if (0 not in zero_indices_list) and (len(num)-1 not in zero_indices_list):\n",
        "\n",
        "          if lang == \"en\":\n",
        "            i = random.randint(1,3)\n",
        "          else:\n",
        "            i = random.randint(2,3)\n",
        "\n",
        "          if i == 1 :\n",
        "              #print(\"case2aa\")\n",
        "              #not is considered only when language is english\n",
        "              #digit not digit case\n",
        "              num_word += num_to_word(num[0], lang)\n",
        "              num_word += random.choice([\" not \", \" naught \"])\n",
        "              num_word += num_to_word(num[2], lang)\n",
        "\n",
        "          elif i == 2:\n",
        "              #print(\"case2ab\")\n",
        "              #digit zero digit case\n",
        "              num_word = output_individual(num, lang)\n",
        "          else:\n",
        "              #print(\"case2ac\")\n",
        "              #num_2_word case\n",
        "              num_word = num_to_word(num, lang)\n",
        "\n",
        "      #case when zero in the MSB position\n",
        "      elif 0 in zero_indices_list:\n",
        "\n",
        "\n",
        "          if 1 in zero_indices_list:\n",
        "              #The special case where 00X\n",
        "              #print(\"case2ba\")\n",
        "              num_word = output_individual(num, lang)\n",
        "              return num_word\n",
        "\n",
        "          i = random.randint(1,2)\n",
        "          if i == 1:\n",
        "              #print(\"case2bb\")\n",
        "              #individual digit case\n",
        "              num_word = output_individual(num, lang)\n",
        "          else:\n",
        "              #print(\"case2bc\")\n",
        "              num_word = num_to_word(0, lang)+\" \" + num_to_word(num[1:], lang)\n",
        "\n",
        "      #case where zero in LSB position\n",
        "      elif len(num)-1 in zero_indices_list:\n",
        "\n",
        "          i = random.randint(1,2)\n",
        "          if i == 1:\n",
        "              #print(\"case2ca\")\n",
        "              #individual digit case\n",
        "              num_word = output_individual(num, lang)\n",
        "          else:\n",
        "              #print(\"case2cb\")\n",
        "              #num2word\n",
        "              num_word = num_to_word(num, lang)\n",
        "\n",
        "\n",
        "\n",
        "  return num_word               \n",
        "\n",
        "\n",
        "\n",
        "\n",
        "\n",
        "\n",
        "    \n",
        "\n",
        "    "
      ],
      "metadata": {
        "id": "dCfjGd2LTTjr"
      },
      "execution_count": null,
      "outputs": []
    },
    {
      "cell_type": "code",
      "source": [
        "def generate_data(segment_list, num_of_lang):\n",
        "  '''\n",
        "  Inputs - \n",
        "    segment_list = list of segments - each segment is a string of digits of variable len\n",
        "    num_of_lang = total number of languages for the data\n",
        "\n",
        "  Outputs - list of words(in En or Hi) corresponding to input list\n",
        "  '''\n",
        "\n",
        "  final_num = []\n",
        "  #On every segment\n",
        "  for seg in segment_list:\n",
        "    #1. Choose the language randomly - 0 = english, 1 = hindi\n",
        "    lang_num = random.randrange(1, num_of_lang+1)\n",
        "    lang = choose_lang(lang_num)\n",
        "    \n",
        "    #Handle the double /triple case\n",
        "    if check_double_triple(seg):\n",
        "        num = double_triple_case(seg, lang)\n",
        "\n",
        "    #Handle the other case\n",
        "    else:\n",
        "        num = no_double_triple(seg, lang)\n",
        "\n",
        "    final_num.append(num)\n",
        "\n",
        "\n",
        "  return \" \".join(final_num)\n",
        "\n"
      ],
      "metadata": {
        "id": "AJxhswxP_1iy"
      },
      "execution_count": null,
      "outputs": []
    },
    {
      "cell_type": "code",
      "source": [
        "generate_data(['1', '1', '7', '115', '06'], 2)"
      ],
      "metadata": {
        "colab": {
          "base_uri": "https://localhost:8080/",
          "height": 36
        },
        "id": "to0oqKAQvwQ7",
        "outputId": "a9aabe80-9e77-4d1a-c9ea-5e8274156e2b"
      },
      "execution_count": null,
      "outputs": [
        {
          "output_type": "execute_result",
          "data": {
            "text/plain": [
              "'one एक सात one one five zero six'"
            ],
            "application/vnd.google.colaboratory.intrinsic+json": {
              "type": "string"
            }
          },
          "metadata": {},
          "execution_count": 36
        }
      ]
    },
    {
      "cell_type": "markdown",
      "source": [
        "## Step - 4 Combining All"
      ],
      "metadata": {
        "id": "rZv2LTBg_2pf"
      }
    },
    {
      "cell_type": "code",
      "source": [
        "from tqdm import tqdm"
      ],
      "metadata": {
        "id": "BnlMc-ZkyvpM"
      },
      "execution_count": null,
      "outputs": []
    },
    {
      "cell_type": "code",
      "source": [
        "n = 1000000\n",
        "max_length = 10\n",
        "max_segment_len = 3\n",
        "num_of_lang = 2\n",
        "num_list = []\n",
        "num_word_list = []\n",
        "\n",
        "f = open('num_word_data.tsv', 'w')\n",
        "\n",
        "for i in tqdm(range(n)):\n",
        "  num = random_number_gen(max_length)\n",
        "  num_list.append(num)\n",
        "  segment_list = random_segment_gen(num, max_segment_len)\n",
        "  final_word = generate_data(segment_list, num_of_lang)\n",
        "  num_word_list.append(final_word)\n",
        "\n",
        "  #writing to the file\n",
        "  line = final_word + \"\\t\" + num +\"\\n\"\n",
        "  f.write(line)\n",
        "\n",
        "\n",
        "f.close()\n",
        "\n",
        "\n"
      ],
      "metadata": {
        "id": "OzMStI8A_6UJ",
        "colab": {
          "base_uri": "https://localhost:8080/"
        },
        "outputId": "f52b0b69-35ba-4af7-b3c1-4267c3eb9e66"
      },
      "execution_count": null,
      "outputs": [
        {
          "output_type": "stream",
          "name": "stderr",
          "text": [
            "100%|██████████| 1000000/1000000 [03:36<00:00, 4617.61it/s]\n"
          ]
        }
      ]
    },
    {
      "cell_type": "code",
      "source": [
        "print(num_word_list[:100])"
      ],
      "metadata": {
        "colab": {
          "base_uri": "https://localhost:8080/"
        },
        "id": "iAqcjpYnw0Lc",
        "outputId": "66efd3dc-d9e6-4b29-991b-daf26e8c8005"
      },
      "execution_count": null,
      "outputs": [
        {
          "output_type": "stream",
          "name": "stdout",
          "text": [
            "['शून्य चार छः two six seventy-four आठ four नौ', 'three-hundred, seventeen आठ', 'एक चार आठ नौ nine five', 'आठ five nine छः छः तीन दो छः', 'शून्य zero four', 'बहत्तर', 'sixty-four बारह five four thirty-nine', 'two six seven zero', 'तिरासी दस five zero सात उन्नीस', 'छः', 'zero nine zero शून्य पाँच nine eight तीन नौ', 'एक तीन सात चार आठ चार', 'thirteen छः दो one six nine seven', 'अट्ठावन तीन', 'zero six आठ', 'चार सौ, तिरासी three eight', 'छः तीन एक six five', 'five छः सत्रह seventy-two चार', 'आठ शून्य सात', 'सात eight नौ दो छः छः', 'नौ seven-hundred, forty zero fifty-six', 'two two three', 'छः पाँच सौ, सोलह zero eighty', 'nine-hundred, sixty-five चौवन दो', 'double आठ', 'four', 'नौ छः sixty-six नौ सौ, पाँच नौ चार', 'two सात नौ एक six-hundred, ninety-seven', 'two छः सौ, छिहत्तर three two four zero two', 'two one two six four नौ सौ, पचासी इक्कीस', 'seven two five शून्य एक seven sixty-eight', 'पाँच एक दो दो शून्य छः six two eight एक', 'zero सात छः आठ five zero one two चार', 'two', 'बहत्तर three five छः four एक', 'छः शून्य ninety-four', 'eight आठ सौ, तिहत्तर three four eight three', 'six nine seven तीन', 'seven two zero nine आठ सौ, चौंतालीस', 'ninety-one three seventy-two zero शून्य तीन zero four', 'eight चार two सात', 'twenty-eight एक पाँच नौ two nine', 'four-hundred, eleven', 'शून्य तिरेपन nine', 'छः छः एक दो शून्य five sixty-four नौ', 'दो पाँच सात शून्य अठहत्तर सात', 'सात दो आठ सौ, छयासठ छः चार आठ fifty-three', 'two two two सात आठ five', 'eight five one two सात एक four-hundred, nineteen पाँच', 'एक सौ, पंद्रह एक पाँच तीन zero fifty-three', 'नौ आठ तीन one-hundred, eighty शून्य तीन शून्य', 'सात पाँच शून्य fifty-eight चार सात', 'nine', 'तीन तीन two two one eight शून्य आठ nine', 'four three zero six six two double five', 'बत्तीस three सत्तावन आठ सौ, तैंतालीस zero शून्य', 'five two zero चार four-hundred, ninety-six छः शून्य एक', 'चार नौ शून्य five three eight six आठ तीन पाँच', 'आठ सौ, अठहत्तर fifty-one', 'four', 'चौवन आठ five one five', 'seven five nine zero चार आठ शून्य तीन नौ पाँच', 'five-hundred, fifty-eight six तीन छः', 'four', 'one double one शून्य', 'आठ तीन शून्य तीन तीन तीन zero five zero सात', 'शून्य छः', 'five two शून्य नौ सात तीन एक नौ इकहत्तर', 'चौंसठ', 'छः', 'two one four seven पाँच सौ, नौ चार', 'four', 'seven', 'nine three five', 'two six छः नौ चार तीन छः', 'eighty-nine छः सौ, इक्यावन\\u200b तीन दो eighty-one', 'छः एक seven-hundred, fifteen zero two three eighty-nine', 'two चार दो सात सात', 'तिरानवे', 'तीन six four-hundred, twenty-six सात सौ, सात seven six', 'छः सौ, चौहत्तर three', 'ninety-two एक five-hundred, eighty-six छः सौ, अट्ठारह', 'five-hundred, eighty-nine आठ चार इक्यानवे', 'one three', 'seventy-three', 'zero', 'तीन fifty six zero', 'ninety', 'एक तीन one दो एक सात sixty-five आठ पाँच', 'four seven eight पाँच', 'सात सौ, बाईस सात seven one दो सौ, बावन one', 'छः double six four', 'thirty-one सात पच्चीस', 'दो six zero two nine four six nine', 'एक two इक्यासी तीन सौ, पचास छः', 'zero eight शून्य सात सात तीन सात तैंतालीस', 'eight एक one not six six', 'zero eight nine', 'तेईस', 'चार आठ three दो दो एक three']\n"
          ]
        }
      ]
    },
    {
      "cell_type": "code",
      "source": [
        "print(num_list[:100])"
      ],
      "metadata": {
        "colab": {
          "base_uri": "https://localhost:8080/"
        },
        "id": "8vNKFQzT0u5v",
        "outputId": "bd50fd30-8075-43e4-d9e6-4bed96e2d993"
      },
      "execution_count": null,
      "outputs": [
        {
          "output_type": "stream",
          "name": "stdout",
          "text": [
            "['0462674849', '3178', '148995', '85966326', '004', '72', '64125439', '2670', '831050719', '6', '090059839', '137484', '13621697', '583', '068', '48338', '63165', '5617724', '807', '789266', '9740056', '223', '6516080', '965542', '88', '4', '966690594', '2791697', '267632402', '2126498521', '72501768', '5122066281', '076850124', '2', '7235641', '6094', '88733483', '6973', '7209844', '9137200304', '8427', '2815929', '411', '0539', '661205649', '2570787', '7286664853', '222785', '8512714195', '115153053', '983180030', '7505847', '9', '332218089', '43066255', '3235784300', '5204496601', '4905386835', '87851', '4', '548515', '7590480395', '558636', '4', '1110', '8303330507', '06', '5209731971', '64', '6', '21475094', '4', '7', '935', '2669436', '896513281', '6171502389', '24277', '93', '3642670776', '6743', '921586618', '5898491', '13', '73', '0', '35060', '90', '1312176585', '4785', '7227712521', '6664', '31725', '26029469', '12813506', '080773743', '811066', '089', '23', '4832213']\n"
          ]
        }
      ]
    }
  ]
}