{
  "nbformat": 4,
  "nbformat_minor": 0,
  "metadata": {
    "colab": {
      "name": "Data Generation.ipynb",
      "provenance": [],
      "collapsed_sections": []
    },
    "kernelspec": {
      "name": "python3",
      "display_name": "Python 3"
    },
    "language_info": {
      "name": "python"
    }
  },
  "cells": [
    {
      "cell_type": "markdown",
      "source": [
        "# Number Data Generation"
      ],
      "metadata": {
        "id": "wi0H_2Ze_iOE"
      }
    },
    {
      "cell_type": "markdown",
      "source": [
        "##Import Libraries"
      ],
      "metadata": {
        "id": "vDKkTWP4HkAr"
      }
    },
    {
      "cell_type": "code",
      "source": [
        "import random\n",
        "# !pip install num_to_word\n",
        "# from num_to_word import num_to_word\n",
        "!pip install num2words\n",
        "from num2words import num2words"
      ],
      "metadata": {
        "colab": {
          "base_uri": "https://localhost:8080/"
        },
        "id": "cNSDh5PvHmzi",
        "outputId": "b1e4d4c5-c89b-443b-d7c6-0d307e7a5707"
      },
      "execution_count": 22,
      "outputs": [
        {
          "output_type": "stream",
          "name": "stdout",
          "text": [
            "Looking in indexes: https://pypi.org/simple, https://us-python.pkg.dev/colab-wheels/public/simple/\n",
            "Requirement already satisfied: num2words in /usr/local/lib/python3.7/dist-packages (0.5.12)\n",
            "Requirement already satisfied: docopt>=0.6.2 in /usr/local/lib/python3.7/dist-packages (from num2words) (0.6.2)\n"
          ]
        }
      ]
    },
    {
      "cell_type": "markdown",
      "source": [
        "## Step - 1 : Random Number Generation"
      ],
      "metadata": {
        "id": "0puV6va2_nTM"
      }
    },
    {
      "cell_type": "code",
      "execution_count": null,
      "metadata": {
        "id": "M9mcJJLe_eBN"
      },
      "outputs": [],
      "source": [
        "import random\n",
        "\n",
        "def random_number_gen(max_length: int) -> str:\n",
        "  \n",
        "  '''\n",
        "    input: max_length - int -  denotes the maximum length of the random number\n",
        "    return: number - string - the random number generated\n",
        "  '''\n",
        "\n",
        "  #First generating a random number to get the length (1-max_length)\n",
        "  length = random.randrange(1,max_length+1)\n",
        "\n",
        "  #Now generating a random number of above length\n",
        "  number = ''.join([\"{}\".format(random.randrange(0, 10)) for _ in range(0, length)])\n",
        "  return number"
      ]
    },
    {
      "cell_type": "code",
      "source": [
        "print(random_number_gen(10))"
      ],
      "metadata": {
        "colab": {
          "base_uri": "https://localhost:8080/"
        },
        "id": "uf73SHbfElnG",
        "outputId": "021dca7e-f3ef-4ac4-938f-96831f244be4"
      },
      "execution_count": null,
      "outputs": [
        {
          "output_type": "stream",
          "name": "stdout",
          "text": [
            "0975371\n"
          ]
        }
      ]
    },
    {
      "cell_type": "markdown",
      "source": [
        "## Step - 2 : Random Segments Generation"
      ],
      "metadata": {
        "id": "UtlGcaHG_rqa"
      }
    },
    {
      "cell_type": "code",
      "source": [
        "def random_segment_gen(num, max_segment_len): \n",
        "  '''\n",
        "  Inputs - \n",
        "    #num is a string of 10 digits - string\n",
        "    #max_segment_len is the max_len of every segment - int\n",
        "\n",
        "  Output - \n",
        "    returns a list of every segment of num \n",
        "  '''\n",
        "\n",
        "  #get random segment len in the range (1, max_segment_len)\n",
        "  segment_len = random.randrange(1, max_segment_len+1)\n",
        "\n",
        "  #get the list of all segments of len segment_len from num\n",
        "  segment_list = [num[i:i+segment_len] for i in range(0, len(num), segment_len)]\n",
        "\n",
        "  return segment_list\n",
        "\n"
      ],
      "metadata": {
        "id": "iXeqJVUL_vg-"
      },
      "execution_count": 8,
      "outputs": []
    },
    {
      "cell_type": "code",
      "source": [
        "print(random_segment_gen(\"1232434320\", 3))"
      ],
      "metadata": {
        "colab": {
          "base_uri": "https://localhost:8080/"
        },
        "id": "ihPEcYwDJRT7",
        "outputId": "f9ff7d55-eaa3-4e8f-883c-5208f7801ee1"
      },
      "execution_count": 11,
      "outputs": [
        {
          "output_type": "stream",
          "name": "stdout",
          "text": [
            "['123', '243', '432', '0']\n"
          ]
        }
      ]
    },
    {
      "cell_type": "markdown",
      "source": [
        "## Step -3 Converting to Words (Num2Word)"
      ],
      "metadata": {
        "id": "dtSIDLfC_vuv"
      }
    },
    {
      "cell_type": "code",
      "source": [
        "def choose_lang(choice):\n",
        "  '''\n",
        "  Input -\n",
        "    choice is the numerical value mapped to the language\n",
        "\n",
        "  Output - \n",
        "    returns lang code for num2words\n",
        "  '''\n",
        "\n",
        "  if(choice == 1):\n",
        "    return 'en'\n",
        "\n",
        "  if(choice == 2):\n",
        "    return 'hi'\n"
      ],
      "metadata": {
        "id": "99HY_PLIO7Sx"
      },
      "execution_count": 16,
      "outputs": []
    },
    {
      "cell_type": "code",
      "source": [
        "def generate_data(segment_list, num_of_lang):\n",
        "  '''\n",
        "  Inputs - \n",
        "    segment_list = list of segments - each segment is a string of digits of variable len\n",
        "    num_of_lang = total number of languages for the data\n",
        "\n",
        "  Outputs - list of words(in En or Hi) corresponding to input list\n",
        "  '''\n",
        "\n",
        "  #On every segment\n",
        "  for seg in segment_list:\n",
        "    #1. Choose the language randomly - 0 = english, 1 = hindi\n",
        "    lang_num = random.randrange(1, num_of_lang+1)\n",
        "    lang = choose_lang(lang_num)\n",
        "    # print(num_to_word(int(seg), lang = lang))\n",
        "    print(num2words(int(seg), lang = lang))\n",
        "\n"
      ],
      "metadata": {
        "id": "AJxhswxP_1iy"
      },
      "execution_count": 25,
      "outputs": []
    },
    {
      "cell_type": "code",
      "source": [
        "segment_list = random_segment_gen(\"1232434320\", 3)\n",
        "generate_data(segment_list, 1)"
      ],
      "metadata": {
        "colab": {
          "base_uri": "https://localhost:8080/"
        },
        "id": "vI6XM4lrQawm",
        "outputId": "670db5b6-c0e6-475f-ebfb-6025289a676f"
      },
      "execution_count": 29,
      "outputs": [
        {
          "output_type": "stream",
          "name": "stdout",
          "text": [
            "one hundred and twenty-three\n",
            "two hundred and forty-three\n",
            "four hundred and thirty-two\n",
            "zero\n"
          ]
        }
      ]
    },
    {
      "cell_type": "markdown",
      "source": [
        "## Step - 4 Combining All"
      ],
      "metadata": {
        "id": "rZv2LTBg_2pf"
      }
    },
    {
      "cell_type": "code",
      "source": [],
      "metadata": {
        "id": "OzMStI8A_6UJ"
      },
      "execution_count": null,
      "outputs": []
    }
  ]
}