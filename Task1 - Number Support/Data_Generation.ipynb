{
 "cells": [
  {
   "cell_type": "markdown",
   "metadata": {
    "id": "wi0H_2Ze_iOE"
   },
   "source": [
    "# Number Data Generation"
   ]
  },
  {
   "cell_type": "markdown",
   "metadata": {
    "id": "vDKkTWP4HkAr"
   },
   "source": [
    "##Import Libraries"
   ]
  },
  {
   "cell_type": "code",
   "execution_count": 1,
   "metadata": {
    "colab": {
     "base_uri": "https://localhost:8080/"
    },
    "id": "cNSDh5PvHmzi",
    "outputId": "1bcec3bd-7b43-4b9c-f561-2d4db04698c6"
   },
   "outputs": [
    {
     "name": "stdout",
     "output_type": "stream",
     "text": [
      "Defaulting to user installation because normal site-packages is not writeable\n",
      "Requirement already satisfied: num2words in /home/sanjanaa/.local/lib/python3.10/site-packages (0.5.12)\n",
      "Requirement already satisfied: docopt>=0.6.2 in /home/sanjanaa/.local/lib/python3.10/site-packages (from num2words) (0.6.2)\n"
     ]
    }
   ],
   "source": [
    "import random\n",
    "# !pip install num_to_word\n",
    "# from num_to_word import num_to_word\n",
    "!pip install num2words\n",
    "from num2words import num2words"
   ]
  },
  {
   "cell_type": "markdown",
   "metadata": {
    "id": "OzlvsudUgj24"
   },
   "source": [
    "Importing the Indic-num2words repository"
   ]
  },
  {
   "cell_type": "code",
   "execution_count": 2,
   "metadata": {
    "colab": {
     "base_uri": "https://localhost:8080/"
    },
    "id": "tgHNpOwJgius",
    "outputId": "fb366835-6d57-42ca-9c8e-402b24591d64"
   },
   "outputs": [
    {
     "name": "stdout",
     "output_type": "stream",
     "text": [
      "Cloning into 'indic-num2words'...\n",
      "remote: Enumerating objects: 120, done.\u001b[K\n",
      "remote: Counting objects: 100% (50/50), done.\u001b[K\n",
      "remote: Compressing objects: 100% (39/39), done.\u001b[K\n",
      "remote: Total 120 (delta 17), reused 31 (delta 6), pack-reused 70\u001b[K\n",
      "Receiving objects: 100% (120/120), 51.33 KiB | 1.43 MiB/s, done.\n",
      "Resolving deltas: 100% (44/44), done.\n"
     ]
    }
   ],
   "source": [
    "! git clone https://github.com/sutariyaraj/indic-num2words.git"
   ]
  },
  {
   "cell_type": "code",
   "execution_count": 5,
   "metadata": {
    "id": "Nd5zpUkEgprt"
   },
   "outputs": [],
   "source": [
    "import sys\n",
    "sys.path.insert(0,'indic-num2words')"
   ]
  },
  {
   "cell_type": "code",
   "execution_count": 7,
   "metadata": {
    "id": "oR4amqpwiS1f"
   },
   "outputs": [],
   "source": [
    "from num_to_words.num_to_words import num_to_word"
   ]
  },
  {
   "cell_type": "markdown",
   "metadata": {
    "id": "0puV6va2_nTM"
   },
   "source": [
    "## Step - 1 : Random Number Generation"
   ]
  },
  {
   "cell_type": "code",
   "execution_count": 8,
   "metadata": {
    "id": "M9mcJJLe_eBN"
   },
   "outputs": [],
   "source": [
    "import random\n",
    "\n",
    "def random_number_gen(max_length: int) -> str:\n",
    "  \n",
    "  '''\n",
    "    input: max_length - int -  denotes the maximum length of the random number\n",
    "    return: number - string - the random number generated\n",
    "  '''\n",
    "\n",
    "  #First generating a random number to get the length (1-max_length)\n",
    "  length = random.randrange(1,max_length+1)\n",
    "\n",
    "  #Now generating a random number of above length\n",
    "  number = ''.join([\"{}\".format(random.randrange(0, 10)) for _ in range(0, length)])\n",
    "  return number"
   ]
  },
  {
   "cell_type": "code",
   "execution_count": 9,
   "metadata": {
    "colab": {
     "base_uri": "https://localhost:8080/"
    },
    "id": "uf73SHbfElnG",
    "outputId": "97bbf455-cae0-400e-e9cb-5d14684297cb"
   },
   "outputs": [
    {
     "name": "stdout",
     "output_type": "stream",
     "text": [
      "0\n"
     ]
    }
   ],
   "source": [
    "print(random_number_gen(10))"
   ]
  },
  {
   "cell_type": "markdown",
   "metadata": {
    "id": "UtlGcaHG_rqa"
   },
   "source": [
    "## Step - 2 : Random Segments Generation"
   ]
  },
  {
   "cell_type": "code",
   "execution_count": 10,
   "metadata": {
    "id": "1m_oLNBt3iSY"
   },
   "outputs": [],
   "source": [
    "def random_segment_gen(num, max_segment_len): \n",
    "  '''\n",
    "  Inputs - \n",
    "    #num is a string of 10 digits - string\n",
    "    #max_segment_len is the max_len of every segment - int\n",
    "\n",
    "  Output - \n",
    "    returns a list of every segment of num \n",
    "  '''\n",
    "\n",
    "  n = len(num)\n",
    "  temp = num\n",
    "  segment_list = []\n",
    "\n",
    "  while(n>0):\n",
    "    #get random segment len in the range (1, max_segment_len)\n",
    "    segment_len = random.randrange(1, max_segment_len+1)\n",
    "\n",
    "    #get the list of all segments of len segment_len from num\n",
    "    segment_list.append(temp[0:segment_len])\n",
    "\n",
    "    #update len of the string left\n",
    "    n -= segment_len\n",
    "\n",
    "    #update the string without the prev segments\n",
    "    temp = temp[segment_len:]\n",
    "\n",
    "  return segment_list\n",
    "\n"
   ]
  },
  {
   "cell_type": "code",
   "execution_count": 11,
   "metadata": {
    "colab": {
     "base_uri": "https://localhost:8080/"
    },
    "id": "ihPEcYwDJRT7",
    "outputId": "f0a3c968-7a2a-46bf-b3fe-232fec488c09"
   },
   "outputs": [
    {
     "name": "stdout",
     "output_type": "stream",
     "text": [
      "['1', '1', '7', '1', '150', '6']\n"
     ]
    }
   ],
   "source": [
    "print(random_segment_gen(\"11711506\", 3))"
   ]
  },
  {
   "cell_type": "markdown",
   "metadata": {
    "id": "dtSIDLfC_vuv"
   },
   "source": [
    "## Step -3 Converting to Words (Num2Word)"
   ]
  },
  {
   "cell_type": "code",
   "execution_count": 12,
   "metadata": {
    "id": "99HY_PLIO7Sx"
   },
   "outputs": [],
   "source": [
    "def choose_lang(choice):\n",
    "  '''\n",
    "  Function to return the language string based on the integer language\n",
    "  Input -\n",
    "    choice is the numerical value mapped to the language\n",
    "\n",
    "  Output - \n",
    "    returns lang code for num2words\n",
    "  '''\n",
    "\n",
    "  language_dict = {1:\"en\", 2:\"hi\"}\n",
    "  return language_dict[choice]\n",
    "  # if(choice == 1):\n",
    "  #   return 'en'\n",
    "\n",
    "  # if(choice == 2):\n",
    "  #   return 'hi'\n"
   ]
  },
  {
   "cell_type": "code",
   "execution_count": 13,
   "metadata": {
    "id": "5S81R6W6zcf7"
   },
   "outputs": [],
   "source": [
    "def check_double_triple(seg) -> bool:\n",
    "\n",
    "  '''\n",
    "  This function is used to check if a segment has all the same characters\n",
    "  or not.\n",
    "  Input: seg - str - the string of numbers\n",
    "  Output: True - if all same chars\n",
    "          False - if not all same chars\n",
    "  '''\n",
    "\n",
    "  if seg.count(seg[0]) == len(seg):\n",
    "    return True\n",
    "  else:\n",
    "    return False\n",
    "    "
   ]
  },
  {
   "cell_type": "code",
   "execution_count": 14,
   "metadata": {
    "id": "pSq2_7ckGocb"
   },
   "outputs": [],
   "source": [
    "def output_individual(seg, lang):\n",
    "\n",
    "    '''\n",
    "    Function to output individual digits of the segment\n",
    "    input:\n",
    "      num = string of numbers\n",
    "      lang = language used to represent the number num\n",
    "    Output: the number represented in the form of words in the required lang\n",
    "    '''\n",
    "\n",
    "    num_word_list = []\n",
    "    for i in range(len(seg)):\n",
    "        digit_word = num_to_word(seg[i], lang)\n",
    "        num_word_list.append(digit_word)\n",
    "    return \" \".join(num_word_list)"
   ]
  },
  {
   "cell_type": "code",
   "execution_count": 15,
   "metadata": {
    "id": "21DYVA2dJW_k"
   },
   "outputs": [],
   "source": [
    "def output_directly(seg, lang):\n",
    "    '''\n",
    "    Function to output the whole number of the segment directly\n",
    "    input:\n",
    "      num = string of numbers\n",
    "      lang = language used to represent the number num\n",
    "    Output: the number represented in the form of words in the required lang\n",
    "    '''\n",
    "\n",
    "    if lang == 'en':\n",
    "      #When the language is english, we are using the num2words library\n",
    "      num_word = num2words(seg, lang = lang)\n",
    "    else:\n",
    "      #For other indic languages we are using indic-num2words library\n",
    "      num_word = num_to_word(seg, lang = lang)\n",
    "    return num_word\n",
    "\n",
    "\n"
   ]
  },
  {
   "cell_type": "code",
   "execution_count": 16,
   "metadata": {
    "id": "W1wjzgltWRzi"
   },
   "outputs": [],
   "source": [
    "#Defining the various counters for each sub case\n",
    "\n",
    "segments_count = 0\n",
    "case_en = 0\n",
    "case_hi = 0\n",
    "\n",
    "case_dob_trip = 0\n",
    "case_no_dob_trip = 0\n",
    "\n",
    "case_all_zero = 0\n",
    "case_all_zero_dobtrp = 0\n",
    "case_all_zero_ind = 0\n",
    "\n",
    "case_not_all_zero = 0\n",
    "case_not_all_zero_dobtrp = 0\n",
    "case_not_all_zero_ind = 0\n",
    "case_not_all_zero_direct = 0\n",
    "\n",
    "\n",
    "case_no_zero = 0\n",
    "case_no_zero_ind = 0\n",
    "case_no_zero_direct = 0\n",
    "\n",
    "case_zero = 0\n",
    "case_zero_no_msblsb = 0\n",
    "case_zero_no_msblsb_not = 0\n",
    "case_zero_no_msblsb_ind = 0\n",
    "case_zero_no_msblsb_dir = 0\n",
    "\n",
    "case_zero_msb = 0\n",
    "case_zero_msb_00x = 0\n",
    "case_zero_msb_ind = 0\n",
    "case_zero_msb_dir = 0\n",
    "\n",
    "case_zero_lsb = 0\n",
    "case_zero_lsb_ind = 0\n",
    "case_zero_lsb_dir = 0\n"
   ]
  },
  {
   "cell_type": "code",
   "execution_count": 17,
   "metadata": {
    "id": "vTAsBqUUyQhF"
   },
   "outputs": [],
   "source": [
    "double = 'डबल '\n",
    "triple = 'ट्रिपल '\n",
    "\n",
    "\n",
    "def double_triple_case(seg, lang) -> str:\n",
    "\n",
    "    '''\n",
    "    Case where the segment has double or triple repeating digits,\n",
    "    Input: \n",
    "       num = string of numbers\n",
    "       lang = language used to represent the number num\n",
    "    Output: the number represented in the form of words in the required lang\n",
    "    '''\n",
    "\n",
    "    global case_all_zero \n",
    "    global case_all_zero_dobtrp\n",
    "    global case_all_zero_ind\n",
    "\n",
    "    global case_not_all_zero\n",
    "    global case_not_all_zero_dobtrp \n",
    "    global case_not_all_zero_ind \n",
    "    global case_not_all_zero_direct \n",
    "\n",
    "\n",
    "    num_word = \"\"\n",
    "    digit_word = num_to_word(seg[0], lang)\n",
    "\n",
    "\n",
    "    #Case when all the digits are 0s\n",
    "    if seg[0] == '0':\n",
    "        \n",
    "        case_all_zero += 1\n",
    "        #choose randomly between the below two subcases \n",
    "        i = random.randint(1, 2)\n",
    "        \n",
    "        if i == 1:\n",
    "            \n",
    "            case_all_zero_dobtrp += 1\n",
    "            #Subcase 1: Here output as \"double\" or \"triple\" zero\n",
    "            if len(seg) == 1:\n",
    "                num_word = digit_word\n",
    "            elif len(seg) == 2:\n",
    "                num_word = double + digit_word\n",
    "            elif len(seg) == 3:\n",
    "                num_word = triple + digit_word\n",
    "\n",
    "        else:\n",
    "            #Subcase 2: Here output the individual digits\n",
    "            case_all_zero_ind += 1\n",
    "            num_word = output_individual(seg, lang)\n",
    "\n",
    "    #The case where all the digits are non 0\n",
    "    else:\n",
    "\n",
    "        case_not_all_zero += 1\n",
    "\n",
    "        #choose randomly between the below three sub cases\n",
    "        i = random.randint(1, 3)\n",
    "\n",
    "        if i == 1:\n",
    "\n",
    "            case_not_all_zero_dobtrp += 1\n",
    "            #Subcase 1: Here output as \"double\" or \"triple\" number\n",
    "            if len(seg) == 1:\n",
    "                num_word = digit_word\n",
    "            elif len(seg) == 2:\n",
    "                num_word = double+ digit_word\n",
    "            elif len(seg) == 3:\n",
    "                num_word = triple + digit_word\n",
    "\n",
    "        elif i == 2:\n",
    "            #Subcase 2: Here output the individual digits\n",
    "            case_not_all_zero_ind += 1\n",
    "            num_word = output_individual(seg, lang)\n",
    "        \n",
    "        else:\n",
    "            #Subcase 3: Here output the number directly\n",
    "            case_not_all_zero_direct += 1\n",
    "            num_word = output_directly(seg, lang)\n",
    "            #If the number is 111 then randomly choose between\n",
    "            #\"one hundred and eleven\" and \"hundred and eleven\" (only if en)\n",
    "            if len(seg) == 3 and seg[0] == '1' and lang == \"en\":\n",
    "              j = random.randint(1,2)\n",
    "              if j == 1:\n",
    "                pass\n",
    "              else:\n",
    "                num_word = num_word[4:]\n",
    "\n",
    "    \n",
    "    return num_word\n"
   ]
  },
  {
   "cell_type": "code",
   "execution_count": 18,
   "metadata": {
    "id": "26Kuo3oGTTjq"
   },
   "outputs": [],
   "source": [
    "def check_zero(num):\n",
    "  '''\n",
    "  Check if the given number has a zero, and if it does, return its position in the input string\n",
    "\n",
    "  Input: num - string of numbers\n",
    "  Output: list of positions where zero exists\n",
    "\n",
    "  '''\n",
    "  #length of the segment\n",
    "  n = len(num)\n",
    "  temp = num\n",
    "  zero_indices_list = []\n",
    "  i = 0\n",
    "\n",
    "  #check all characters in the segment\n",
    "  for c in num:\n",
    "    if(c=='0'):\n",
    "      zero_indices_list.append(i)\n",
    "    i+=1\n",
    "  \n",
    "  return zero_indices_list"
   ]
  },
  {
   "cell_type": "code",
   "execution_count": null,
   "metadata": {
    "id": "om_v7hZnqhQj"
   },
   "outputs": [],
   "source": []
  },
  {
   "cell_type": "code",
   "execution_count": 19,
   "metadata": {
    "id": "dCfjGd2LTTjr"
   },
   "outputs": [],
   "source": [
    "def no_double_triple(num, lang) -> str: \n",
    "  '''\n",
    "  If the segment does not contain any double or triple repeating digits,\n",
    "  handle different cases under non repeating numbers.\n",
    "  Input: \n",
    "    num = string of numbers\n",
    "    lang = language used to represent the number num\n",
    "  Output: the number represented in the form of words in the required lang\n",
    "  '''\n",
    "\n",
    "  global case_no_zero\n",
    "  global case_no_zero_ind\n",
    "  global case_no_zero_direct\n",
    "\n",
    "  global case_zero \n",
    "  global case_zero_no_msblsb \n",
    "  global case_zero_no_msblsb_not \n",
    "  global case_zero_no_msblsb_ind \n",
    "  global case_zero_no_msblsb_dir \n",
    "\n",
    "  global case_zero_msb \n",
    "  global case_zero_msb_00x \n",
    "  global case_zero_msb_ind \n",
    "  global case_zero_msb_dir \n",
    "\n",
    "  global case_zero_lsb \n",
    "  global case_zero_lsb_ind \n",
    "  global case_zero_lsb_dir\n",
    "\n",
    "  zero_indices_list = check_zero(num)\n",
    "  num_zeros = len(zero_indices_list)\n",
    "\n",
    "  num_word = \"\"\n",
    "\n",
    "  #if there are no zeros:\n",
    "  if(num_zeros==0):\n",
    "      case_no_zero += 1\n",
    "\n",
    "      #the good case\n",
    "      i = random.randint(1,2)\n",
    "      if i == 1:\n",
    "          #print(\"case1a\")\n",
    "          #the individual digit case\n",
    "          case_no_zero_ind += 1\n",
    "          num_word = output_individual(num, lang)\n",
    "      else:\n",
    "          #print(\"case1b\")\n",
    "          #num2word\n",
    "          case_no_zero_direct += 1\n",
    "          num_word = output_directly(num, lang)\n",
    "          #If the number is 1XX then randomly choose between\n",
    "          #\"one hundred and XXXX\" and \"hundred and XXXX\" (only if en)\n",
    "          if len(num) == 3 and num[0] == '1' and lang == 'en':\n",
    "            j = random.randint(1,2)\n",
    "            if j == 1:\n",
    "                pass\n",
    "            else:\n",
    "                num_word = num_word[4:]\n",
    "\n",
    "    \n",
    "\n",
    "  #atleast one zero\n",
    "  else:\n",
    "\n",
    "      case_zero += 1\n",
    "\n",
    "      #check whether the zero is not in MSB and LSB\n",
    "      if (0 not in zero_indices_list) and (len(num)-1 not in zero_indices_list):\n",
    "\n",
    "          case_zero_no_msblsb += 1\n",
    "\n",
    "          if lang == \"en\":\n",
    "            i = random.randint(1,3)\n",
    "          else:\n",
    "            i = random.randint(2,3)\n",
    "\n",
    "          if i == 1 :\n",
    "              #print(\"case2aa\")\n",
    "              #not is considered only when language is english\n",
    "              #digit not digit case\n",
    "              case_zero_no_msblsb_not += 1\n",
    "              num_word += num_to_word(num[0], lang)\n",
    "              num_word += random.choice([\" not \", \" naught \"])\n",
    "              num_word += num_to_word(num[2], lang)\n",
    "\n",
    "          elif i == 2:\n",
    "              case_zero_no_msblsb_ind += 1\n",
    "              #print(\"case2ab\")\n",
    "              #digit zero digit case\n",
    "              num_word = output_individual(num, lang)\n",
    "          else:\n",
    "              #print(\"case2ac\")\n",
    "              #num_2_word case\n",
    "              case_zero_no_msblsb_dir += 1\n",
    "              num_word = output_directly(num, lang)\n",
    "              #If the number is 10X then randomly choose between\n",
    "              #\"one hundred and XXXX\" and \"hundred and XXXX\" (only if en)\n",
    "              if len(num) == 3 and num[0] == '1' and lang == 'en':\n",
    "                j = random.randint(1,2)\n",
    "                if j == 1:\n",
    "                    pass\n",
    "                else:\n",
    "                    num_word = num_word[4:]\n",
    "\n",
    "      #case when zero in the MSB position\n",
    "      elif 0 in zero_indices_list:\n",
    "\n",
    "          case_zero_msb += 1\n",
    "          if 1 in zero_indices_list:\n",
    "              case_zero_msb_00x += 1\n",
    "              #The special case where 00X\n",
    "              #print(\"case2ba\")\n",
    "              if lang == \"en\":\n",
    "                i = random.randint(1,2)\n",
    "              else:\n",
    "                i = 1\n",
    "              if i == 1:\n",
    "                #individual digit case\n",
    "                num_word = output_individual(num, lang)\n",
    "              else:\n",
    "                #not not digit case\n",
    "                num_word += random.choice([\"not\", \"naught\"])\n",
    "                num_word += random.choice([\" not \", \" naught \"])\n",
    "                num_word += num_to_word(num[-1], lang)\n",
    "                \n",
    "              return num_word\n",
    "\n",
    "          i = random.randint(1,2)\n",
    "          if i == 1:\n",
    "              #print(\"case2bb\")\n",
    "              #individual digit case\n",
    "              case_zero_msb_ind += 1\n",
    "              num_word = output_individual(num, lang)\n",
    "          else:\n",
    "              #print(\"case2bc\")\n",
    "              case_zero_msb_dir += 1\n",
    "              num_word = num_to_word(0, lang)+\" \" + num_to_word(num[1:], lang)\n",
    "\n",
    "      #case where zero in LSB position\n",
    "      elif len(num)-1 in zero_indices_list:\n",
    "\n",
    "          case_zero_lsb += 1\n",
    "\n",
    "          i = random.randint(1,2)\n",
    "          if i == 1:\n",
    "              #print(\"case2ca\")\n",
    "              #individual digit case\n",
    "              case_zero_lsb_ind += 1\n",
    "              num_word = output_individual(num, lang)\n",
    "          else:\n",
    "              #print(\"case2cb\")\n",
    "              #num2word\n",
    "              case_zero_lsb_dir += 1\n",
    "              num_word = output_directly(num, lang)\n",
    "              #If the number is 1X0 then randomly choose between\n",
    "              #\"one hundred and XXXX\" and \"hundred and XXXX\" (only if en)\n",
    "              if len(num) == 3 and num[0] == '1' and lang == 'en':\n",
    "                j = random.randint(1,2)\n",
    "                if j == 1:\n",
    "                  pass\n",
    "                else:\n",
    "                  num_word = num_word[4:]\n",
    "\n",
    "\n",
    "\n",
    "  return num_word               \n",
    "\n"
   ]
  },
  {
   "cell_type": "code",
   "execution_count": 20,
   "metadata": {
    "id": "AJxhswxP_1iy"
   },
   "outputs": [],
   "source": [
    "def generate_data(segment_list, num_of_lang, lang_choice = None):\n",
    "  '''\n",
    "  Inputs - \n",
    "    segment_list = list of segments - each segment is a string of digits of variable len\n",
    "    num_of_lang = total number of languages for the data\n",
    "\n",
    "  Outputs - list of words(in En or Hi) corresponding to input list\n",
    "  '''\n",
    "\n",
    "  global case_en \n",
    "  global case_hi \n",
    "\n",
    "  global case_dob_trip\n",
    "  global case_no_dob_trip\n",
    "  global segments_count\n",
    "\n",
    "  final_num = []\n",
    "  #On every segment\n",
    "  for seg in segment_list:\n",
    "    segments_count += 1\n",
    "    #1. Choose the language randomly - 0 = english, 1 = hindi\n",
    "\n",
    "    if lang_choice is None:\n",
    "      lang_num = random.randrange(1, num_of_lang+1)\n",
    "      lang = choose_lang(lang_num)\n",
    "    else:\n",
    "      lang = lang_choice\n",
    "\n",
    "    if lang == 'en':\n",
    "      case_en += 1\n",
    "    elif lang == 'hi':\n",
    "      case_hi += 1\n",
    "\n",
    "    \n",
    "    #Handle the double /triple case\n",
    "    if check_double_triple(seg):\n",
    "        case_dob_trip += 1\n",
    "        num = double_triple_case(seg, lang)\n",
    "\n",
    "    #Handle the other case\n",
    "    else:\n",
    "        case_no_dob_trip += 1\n",
    "        num = no_double_triple(seg, lang)\n",
    "\n",
    "    final_num.append(num)\n",
    "\n",
    "\n",
    "  return \" \".join(final_num)\n",
    "\n"
   ]
  },
  {
   "cell_type": "code",
   "execution_count": 21,
   "metadata": {
    "id": "to0oqKAQvwQ7"
   },
   "outputs": [],
   "source": [
    "\n",
    "\n",
    "def print_stats(n):\n",
    "  print(\"Number of points: \", n)\n",
    "  print(\"Number of segments: \", segments_count)\n",
    "  print(\"% of English Segments: \", case_en/segments_count)\n",
    "  print(\"% of Hindi Segments: \", case_hi/segments_count)\n",
    "  print(\"**********************************************************\")\n",
    "  print(\"% of double/triple digit cases: \",case_dob_trip/segments_count)\n",
    "  print(\"% of non double/triple cases: \",case_no_dob_trip/segments_count)\n",
    "  print(\"**********************************************************\")\n",
    "  print(\"% of all zero cases: \", case_all_zero/case_dob_trip)\n",
    "  print(\"% of all zero double-triple cases: \", case_all_zero_dobtrp/case_all_zero)\n",
    "  print(\"% of all zero individual cases: \", case_all_zero_ind/case_all_zero)\n",
    "  print()\n",
    "  print(\"% of not all zero cases: \", case_not_all_zero/case_no_dob_trip)\n",
    "  print(\"% of not all zero double-triple cases: \", case_not_all_zero_dobtrp/case_not_all_zero)\n",
    "  print(\"% of not all zero individual cases: \", case_not_all_zero_ind/case_not_all_zero)\n",
    "  print(\"% of not all zero direct number cases: \",case_not_all_zero_direct/case_not_all_zero)\n",
    "  print(\"************************************************************\")\n",
    "  print(\"% of no zero case: \", case_no_zero/case_no_dob_trip)\n",
    "  print(\"% of atleast one zero case: \", case_zero/case_no_dob_trip)\n",
    "  print()\n",
    "  print(\"% of no zero individual cases: \", case_no_zero_ind/case_no_zero)\n",
    "  print(\"% of no zero direct cases: \", case_no_zero_direct/case_no_zero)\n",
    "  print()\n",
    "  print(\"% of zero not in MSB/LSB cases: \", case_zero_no_msblsb/case_zero)\n",
    "  print(\"% of zero not in MSB/LSB 'not' cases: \", case_zero_no_msblsb_not/case_zero_no_msblsb)\n",
    "  print(\"% of zero not in MSB/LSB individual cases: \", case_zero_no_msblsb_ind/case_zero_no_msblsb)\n",
    "  print(\"% of zero not in MSB/LSB direct cases: \", case_zero_no_msblsb_dir/case_zero_no_msblsb)\n",
    "  print()\n",
    "  print(\"% of zero in MSB cases: \", case_zero_msb/case_zero)\n",
    "  print(\"% of zero in MSB 00X cases: \", case_zero_msb_00x/case_zero_msb)\n",
    "  print(\"% of zero in MSB individual cases: \", case_zero_msb_ind/case_zero_msb)\n",
    "  print(\"% of zero in MSB direct cases: \", case_zero_msb_dir/case_zero_msb)\n",
    "  print()\n",
    "  print(\"% of zero in LSB cases: \", case_zero_lsb/case_zero)\n",
    "  print(\"% of zero in LSB individual cases: \", case_zero_lsb_ind/case_zero_lsb)\n",
    "  print(\"% of zero in LSB direct cases: \", case_zero_lsb_dir/case_zero_lsb)\n",
    "\n",
    "\n"
   ]
  },
  {
   "cell_type": "markdown",
   "metadata": {
    "id": "rZv2LTBg_2pf"
   },
   "source": [
    "## Step - 4 Combining All"
   ]
  },
  {
   "cell_type": "code",
   "execution_count": 23,
   "metadata": {
    "id": "BnlMc-ZkyvpM"
   },
   "outputs": [
    {
     "ename": "ModuleNotFoundError",
     "evalue": "No module named 'tqdm'",
     "output_type": "error",
     "traceback": [
      "\u001b[0;31m---------------------------------------------------------------------------\u001b[0m",
      "\u001b[0;31mModuleNotFoundError\u001b[0m                       Traceback (most recent call last)",
      "\u001b[0;32m/tmp/ipykernel_719279/1338467082.py\u001b[0m in \u001b[0;36m<module>\u001b[0;34m\u001b[0m\n\u001b[0;32m----> 1\u001b[0;31m \u001b[0;32mfrom\u001b[0m \u001b[0mtqdm\u001b[0m \u001b[0;32mimport\u001b[0m \u001b[0mtqdm\u001b[0m\u001b[0;34m\u001b[0m\u001b[0;34m\u001b[0m\u001b[0m\n\u001b[0m",
      "\u001b[0;31mModuleNotFoundError\u001b[0m: No module named 'tqdm'"
     ]
    }
   ],
   "source": [
    "# from tqdm import tqdm"
   ]
  },
  {
   "cell_type": "code",
   "execution_count": 25,
   "metadata": {
    "colab": {
     "base_uri": "https://localhost:8080/"
    },
    "id": "OzMStI8A_6UJ",
    "outputId": "bd563336-06c3-4ed7-8ab6-cc59e44ab6ce"
   },
   "outputs": [
    {
     "name": "stdout",
     "output_type": "stream",
     "text": [
      "Number of points:  1000000\n",
      "Number of segments:  3096823\n",
      "% of English Segments:  0.0\n",
      "% of Hindi Segments:  1.0\n",
      "**********************************************************\n",
      "% of double/triple digit cases:  0.4835594414017204\n",
      "% of non double/triple cases:  0.5164405585982796\n",
      "**********************************************************\n",
      "% of all zero cases:  0.10002083475236695\n",
      "% of all zero double-triple cases:  0.5002904240190679\n",
      "% of all zero individual cases:  0.4997095759809322\n",
      "\n",
      "% of not all zero cases:  0.8426786300470511\n",
      "% of not all zero double-triple cases:  0.3332465198554296\n",
      "% of not all zero individual cases:  0.33316564234182694\n",
      "% of not all zero direct number cases:  0.3335878378027435\n",
      "************************************************************\n",
      "% of no zero case:  0.7688918762602973\n",
      "% of atleast one zero case:  0.2311081237397027\n",
      "\n",
      "% of no zero individual cases:  0.5000073188106445\n",
      "% of no zero direct cases:  0.4999926811893555\n",
      "\n",
      "% of zero not in MSB/LSB cases:  0.15189777526466586\n",
      "% of zero not in MSB/LSB 'not' cases:  0.0\n",
      "% of zero not in MSB/LSB individual cases:  0.5017455115417497\n",
      "% of zero not in MSB/LSB direct cases:  0.4982544884582502\n",
      "\n",
      "% of zero in MSB cases:  0.4325639783884399\n",
      "% of zero in MSB 00X cases:  0.0390410487669108\n",
      "% of zero in MSB individual cases:  0.481946173139108\n",
      "% of zero in MSB direct cases:  0.47901277809398124\n",
      "\n",
      "% of zero in LSB cases:  0.41553824634689424\n",
      "% of zero in LSB individual cases:  0.5006185298522039\n",
      "% of zero in LSB direct cases:  0.4993814701477961\n"
     ]
    }
   ],
   "source": [
    "n = 1000000\n",
    "max_length = 10\n",
    "max_segment_len = 3\n",
    "num_of_lang = 2\n",
    "num_list = []\n",
    "num_word_list = []\n",
    "\n",
    "f = open('num_word_data.tsv', 'w')\n",
    "\n",
    "for i in (range(n)):\n",
    "  num = random_number_gen(max_length)\n",
    "  num_list.append(num)\n",
    "  segment_list = random_segment_gen(num, max_segment_len)\n",
    "  final_word = generate_data(segment_list, num_of_lang, \"hi\")\n",
    "  num_word_list.append(final_word)\n",
    "\n",
    "  #writing to the file\n",
    "  line = final_word + \"\\t\" + num +\"\\n\"\n",
    "  f.write(line)\n",
    "\n",
    "\n",
    "f.close()\n",
    "\n",
    "print_stats(n)\n",
    "\n"
   ]
  },
  {
   "cell_type": "code",
   "execution_count": null,
   "metadata": {
    "colab": {
     "base_uri": "https://localhost:8080/"
    },
    "id": "iAqcjpYnw0Lc",
    "outputId": "55dd223e-25e3-4cef-d99d-67aac46954d5"
   },
   "outputs": [],
   "source": [
    "print(num_word_list[:100])"
   ]
  },
  {
   "cell_type": "code",
   "execution_count": null,
   "metadata": {
    "colab": {
     "base_uri": "https://localhost:8080/"
    },
    "id": "8vNKFQzT0u5v",
    "outputId": "c04ba775-d05d-4925-923f-1a8325037fa2"
   },
   "outputs": [],
   "source": [
    "print(num_list[:100])"
   ]
  }
 ],
 "metadata": {
  "colab": {
   "collapsed_sections": [],
   "name": "Data Generation.ipynb",
   "provenance": []
  },
  "kernelspec": {
   "display_name": "Python 3 (ipykernel)",
   "language": "python",
   "name": "python3"
  },
  "language_info": {
   "codemirror_mode": {
    "name": "ipython",
    "version": 3
   },
   "file_extension": ".py",
   "mimetype": "text/x-python",
   "name": "python",
   "nbconvert_exporter": "python",
   "pygments_lexer": "ipython3",
   "version": "3.10.4"
  }
 },
 "nbformat": 4,
 "nbformat_minor": 1
}
