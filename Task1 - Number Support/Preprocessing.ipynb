{
 "cells": [
  {
   "cell_type": "markdown",
   "metadata": {
    "id": "mhhLSE-0HN7V"
   },
   "source": [
    "# Preprocessing the data"
   ]
  },
  {
   "cell_type": "code",
   "execution_count": 1,
   "metadata": {
    "id": "e8xMH8wRIDHA"
   },
   "outputs": [],
   "source": [
    "import pandas as pd\n",
    "import csv\n",
    "import re"
   ]
  },
  {
   "cell_type": "code",
   "execution_count": null,
   "metadata": {
    "id": "G8oqKFocHNFW"
   },
   "outputs": [],
   "source": []
  },
  {
   "cell_type": "code",
   "execution_count": 2,
   "metadata": {
    "id": "j2HTAGdcJf6R"
   },
   "outputs": [],
   "source": [
    "def load_data():\n",
    "  input = []\n",
    "  output = []\n",
    "\n",
    "\n",
    "  train_tsv_file = open('num_word_data.tsv', \"r\", encoding=\"utf-8\")\n",
    "  train_dataset = csv.reader(train_tsv_file, delimiter=\"\\t\")\n",
    "  for i in train_dataset:\n",
    "    input.append(i[0])\n",
    "    output.append(i[1])\n",
    "\n",
    "  return input, output"
   ]
  },
  {
   "cell_type": "code",
   "execution_count": 3,
   "metadata": {
    "id": "HtEtw8WzKrQU"
   },
   "outputs": [],
   "source": [
    "def preprocess(input):\n",
    "  '''\n",
    "    In this function Im trying to remove any html tags or any special symbols \n",
    "    that may have crept in or any english characters\n",
    "  '''\n",
    "  for i,word in enumerate(input):\n",
    "    temp_str = re.sub(\"-\", \" \", word)\n",
    "    temp_str = re.sub(\",\", \"\", temp_str)\n",
    "    input[i] = temp_str + \" [EOS]\"\n",
    "  return input\n",
    "\n",
    "\n",
    "\n"
   ]
  },
  {
   "cell_type": "code",
   "execution_count": 4,
   "metadata": {
    "id": "X10XeCfxOwuQ"
   },
   "outputs": [],
   "source": [
    "input, output = load_data()"
   ]
  },
  {
   "cell_type": "code",
   "execution_count": 5,
   "metadata": {
    "id": "Nm8FfLrHLlzu"
   },
   "outputs": [],
   "source": [
    "input_new = preprocess(input)"
   ]
  },
  {
   "cell_type": "code",
   "execution_count": 6,
   "metadata": {
    "colab": {
     "base_uri": "https://localhost:8080/",
     "height": 36
    },
    "id": "foHFARC4PDv1",
    "outputId": "c0abe096-534a-4345-e032-98c4313ea7a8"
   },
   "outputs": [
    {
     "data": {
      "text/plain": [
       "'चार सौ अड़तालीस पाँच नौ शून्य तीन चार एक छः [EOS]'"
      ]
     },
     "execution_count": 6,
     "metadata": {},
     "output_type": "execute_result"
    }
   ],
   "source": [
    "input_new[2]"
   ]
  },
  {
   "cell_type": "code",
   "execution_count": 23,
   "metadata": {
    "colab": {
     "base_uri": "https://localhost:8080/",
     "height": 36
    },
    "id": "y8AHzUVWQjRs",
    "outputId": "38a65f78-b3f5-4d5d-cb0f-1f9b17af31c6"
   },
   "outputs": [
    {
     "data": {
      "application/vnd.google.colaboratory.intrinsic+json": {
       "type": "string"
      },
      "text/plain": [
       "'246327387'"
      ]
     },
     "execution_count": 23,
     "metadata": {},
     "output_type": "execute_result"
    }
   ],
   "source": [
    "output[2]"
   ]
  },
  {
   "cell_type": "code",
   "execution_count": 44,
   "metadata": {
    "id": "XkcttQuIQxyr"
   },
   "outputs": [],
   "source": [
    "def vocab_creation(input, output):\n",
    "\n",
    "  source_vocab = set()\n",
    "  target_vocab = set()\n",
    "\n",
    "  #collecting source vocabulary\n",
    "  for num_word in input:\n",
    "    for word in num_word.split(\" \"):\n",
    "      source_vocab.add(word)\n",
    "\n",
    "  #collecting target vocabulary\n",
    "  for num in output:\n",
    "    for digit in num:\n",
    "      target_vocab.add(digit)\n",
    "\n",
    "  return source_vocab, target_vocab"
   ]
  },
  {
   "cell_type": "code",
   "execution_count": 46,
   "metadata": {
    "id": "zB7XI-ILRImN"
   },
   "outputs": [],
   "source": [
    "src_vocab, tgt_vocab = vocab_creation(input_new[:10], output[:10])"
   ]
  },
  {
   "cell_type": "code",
   "execution_count": 31,
   "metadata": {
    "id": "KVT51Q4uRoX8"
   },
   "outputs": [],
   "source": []
  }
 ],
 "metadata": {
  "colab": {
   "name": "Preprocessing.ipynb",
   "provenance": []
  },
  "kernelspec": {
   "display_name": "Python 3 (ipykernel)",
   "language": "python",
   "name": "python3"
  },
  "language_info": {
   "codemirror_mode": {
    "name": "ipython",
    "version": 3
   },
   "file_extension": ".py",
   "mimetype": "text/x-python",
   "name": "python",
   "nbconvert_exporter": "python",
   "pygments_lexer": "ipython3",
   "version": "3.10.4"
  }
 },
 "nbformat": 4,
 "nbformat_minor": 1
}
